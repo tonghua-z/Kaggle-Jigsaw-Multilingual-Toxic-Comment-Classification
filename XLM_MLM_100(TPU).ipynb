{
 "cells": [
  {
   "cell_type": "code",
   "execution_count": 2,
   "metadata": {
    "colab": {
     "base_uri": "https://localhost:8080/",
     "height": 34
    },
    "colab_type": "code",
    "executionInfo": {
     "elapsed": 855,
     "status": "ok",
     "timestamp": 1592589652207,
     "user": {
      "displayName": "Tonghua Zhang",
      "photoUrl": "https://lh3.googleusercontent.com/a-/AOh14GitTdIZ9rdil0rSReBpAdLDKywxi3SxtC8mH-CB=s64",
      "userId": "10197665388177589892"
     },
     "user_tz": -480
    },
    "id": "DV5oGHDw1x5w",
    "outputId": "cd3bb4f2-8197-421c-9a7f-ccb56923adbf"
   },
   "outputs": [
    {
     "name": "stdout",
     "output_type": "stream",
     "text": [
      "Drive already mounted at /content/drive; to attempt to forcibly remount, call drive.mount(\"/content/drive\", force_remount=True).\n"
     ]
    }
   ],
   "source": [
    "from google.colab import drive\n",
    "drive.mount('/content/drive')"
   ]
  },
  {
   "cell_type": "code",
   "execution_count": 3,
   "metadata": {
    "_cell_guid": "79c7e3d0-c299-4dcb-8224-4455121ee9b0",
    "_kg_hide-input": true,
    "_kg_hide-output": true,
    "_uuid": "d629ff2d2480ee46fbb7e2d37f6b5fab8052498a",
    "colab": {
     "base_uri": "https://localhost:8080/",
     "height": 235
    },
    "colab_type": "code",
    "executionInfo": {
     "elapsed": 83127,
     "status": "ok",
     "timestamp": 1592589734500,
     "user": {
      "displayName": "Tonghua Zhang",
      "photoUrl": "https://lh3.googleusercontent.com/a-/AOh14GitTdIZ9rdil0rSReBpAdLDKywxi3SxtC8mH-CB=s64",
      "userId": "10197665388177589892"
     },
     "user_tz": -480
    },
    "id": "4INcDwkoy-af",
    "outputId": "b6f5382c-6fd3-451a-84e4-c306ff64e637"
   },
   "outputs": [
    {
     "name": "stdout",
     "output_type": "stream",
     "text": [
      "  % Total    % Received % Xferd  Average Speed   Time    Time     Time  Current\n",
      "                                 Dload  Upload   Total   Spent    Left  Speed\n",
      "100  4264  100  4264    0     0  35831      0 --:--:-- --:--:-- --:--:-- 35533\n",
      "Copying gs://tpu-pytorch/wheels/torch-nightly+20200420-cp36-cp36m-linux_x86_64.whl...\n",
      "- [1 files][ 86.8 MiB/ 86.8 MiB]                                                \n",
      "Operation completed over 1 objects/86.8 MiB.                                     \n",
      "Copying gs://tpu-pytorch/wheels/torch_xla-nightly+20200420-cp36-cp36m-linux_x86_64.whl...\n",
      "\\ [1 files][117.2 MiB/117.2 MiB]                                                \n",
      "Operation completed over 1 objects/117.2 MiB.                                    \n",
      "Copying gs://tpu-pytorch/wheels/torchvision-nightly+20200420-cp36-cp36m-linux_x86_64.whl...\n",
      "/ [1 files][  2.4 MiB/  2.4 MiB]                                                \n",
      "Operation completed over 1 objects/2.4 MiB.                                      \n",
      "\u001b[31mERROR: fastai 1.0.61 requires torchvision, which is not installed.\u001b[0m\n"
     ]
    }
   ],
   "source": [
    "!curl https://raw.githubusercontent.com/pytorch/xla/master/contrib/scripts/env-setup.py -o pytorch-xla-env-setup.py > /dev/null\n",
    "!python pytorch-xla-env-setup.py --version 20200420 --apt-packages libomp5 libopenblas-dev > /dev/null\n",
    "!pip install transformers==2.5.1 > /dev/null\n",
    "!pip install pandarallel > /dev/null\n",
    "!pip install catalyst==20.4.2 > /dev/null"
   ]
  },
  {
   "cell_type": "code",
   "execution_count": 4,
   "metadata": {
    "_kg_hide-input": true,
    "_kg_hide-output": true,
    "colab": {
     "base_uri": "https://localhost:8080/",
     "height": 151
    },
    "colab_type": "code",
    "executionInfo": {
     "elapsed": 88814,
     "status": "ok",
     "timestamp": 1592589740200,
     "user": {
      "displayName": "Tonghua Zhang",
      "photoUrl": "https://lh3.googleusercontent.com/a-/AOh14GitTdIZ9rdil0rSReBpAdLDKywxi3SxtC8mH-CB=s64",
      "userId": "10197665388177589892"
     },
     "user_tz": -480
    },
    "id": "6AMNc5KNy-ah",
    "outputId": "aee9459c-ae16-4e5a-9399-986f60537ad0"
   },
   "outputs": [
    {
     "name": "stderr",
     "output_type": "stream",
     "text": [
      "/usr/lib/python3.6/importlib/_bootstrap.py:219: RuntimeWarning:\n",
      "\n",
      "numpy.ufunc size changed, may indicate binary incompatibility. Expected 192 from C header, got 216 from PyObject\n",
      "\n"
     ]
    },
    {
     "name": "stdout",
     "output_type": "stream",
     "text": [
      "[nltk_data] Downloading package punkt to /root/nltk_data...\n",
      "[nltk_data]   Unzipping tokenizers/punkt.zip.\n",
      "INFO: Pandarallel will run on 4 workers.\n",
      "INFO: Pandarallel will use Memory file system to transfer data between the main process and workers.\n"
     ]
    }
   ],
   "source": [
    "import numpy as np\n",
    "import pandas as pd\n",
    "\n",
    "import os\n",
    "os.environ['XLA_USE_BF16'] = \"1\"\n",
    "\n",
    "from glob import glob\n",
    "\n",
    "import torch\n",
    "import torch.nn as nn\n",
    "from torch.utils.data import Dataset,DataLoader\n",
    "from torch.autograd import Variable\n",
    "from torch.utils.data.sampler import SequentialSampler, RandomSampler\n",
    "import sklearn\n",
    "\n",
    "import time\n",
    "import random\n",
    "from datetime import datetime\n",
    "from tqdm import tqdm\n",
    "tqdm.pandas()\n",
    "\n",
    "from transformers import BertModel, BertTokenizer\n",
    "from transformers import XLMModel, XLMTokenizer\n",
    "from transformers import AdamW, get_linear_schedule_with_warmup, get_constant_schedule\n",
    "from catalyst.data.sampler import DistributedSamplerWrapper, BalanceClassSampler\n",
    "\n",
    "import gc\n",
    "import re\n",
    "\n",
    "# !pip install nltk > /dev/null\n",
    "import nltk\n",
    "nltk.download('punkt')\n",
    "\n",
    "from nltk import sent_tokenize\n",
    "\n",
    "from pandarallel import pandarallel\n",
    "\n",
    "pandarallel.initialize(nb_workers=4, progress_bar=False)"
   ]
  },
  {
   "cell_type": "code",
   "execution_count": 5,
   "metadata": {
    "colab": {},
    "colab_type": "code",
    "executionInfo": {
     "elapsed": 88810,
     "status": "ok",
     "timestamp": 1592589740200,
     "user": {
      "displayName": "Tonghua Zhang",
      "photoUrl": "https://lh3.googleusercontent.com/a-/AOh14GitTdIZ9rdil0rSReBpAdLDKywxi3SxtC8mH-CB=s64",
      "userId": "10197665388177589892"
     },
     "user_tz": -480
    },
    "id": "Ieq6WnESy-aj"
   },
   "outputs": [],
   "source": [
    "SEED = 108\n",
    "\n",
    "MAX_LENGTH = 224\n",
    "BACKBONE_PATH = 'xlm-mlm-100-1280'\n",
    "ROOT_PATH = f'/content/drive/My Drive/data/'\n",
    "\n",
    "\n",
    "def seed_everything(seed):\n",
    "    random.seed(seed)\n",
    "    os.environ['PYTHONHASHSEED'] = str(seed)\n",
    "    np.random.seed(seed)\n",
    "    torch.manual_seed(seed)\n",
    "    torch.cuda.manual_seed(seed)\n",
    "    torch.backends.cudnn.deterministic = True\n",
    "    torch.backends.cudnn.benchmark = True\n",
    "\n",
    "seed_everything(SEED)"
   ]
  },
  {
   "cell_type": "markdown",
   "metadata": {
    "colab_type": "text",
    "id": "IRJ1uNycy-al"
   },
   "source": [
    "### NLP Albumentations"
   ]
  },
  {
   "cell_type": "code",
   "execution_count": 6,
   "metadata": {
    "colab": {
     "base_uri": "https://localhost:8080/",
     "height": 84
    },
    "colab_type": "code",
    "executionInfo": {
     "elapsed": 89231,
     "status": "ok",
     "timestamp": 1592589740638,
     "user": {
      "displayName": "Tonghua Zhang",
      "photoUrl": "https://lh3.googleusercontent.com/a-/AOh14GitTdIZ9rdil0rSReBpAdLDKywxi3SxtC8mH-CB=s64",
      "userId": "10197665388177589892"
     },
     "user_tz": -480
    },
    "id": "7tsIPHAry-am",
    "outputId": "fd50eb34-972f-490c-e96a-5389c3444da6"
   },
   "outputs": [
    {
     "name": "stderr",
     "output_type": "stream",
     "text": [
      "/usr/lib/python3.6/importlib/_bootstrap.py:219: RuntimeWarning:\n",
      "\n",
      "numpy.ufunc size changed, may indicate binary incompatibility. Expected 192 from C header, got 216 from PyObject\n",
      "\n"
     ]
    }
   ],
   "source": [
    "from nltk import sent_tokenize\n",
    "from random import shuffle\n",
    "import random\n",
    "import albumentations\n",
    "from albumentations.core.transforms_interface import DualTransform, BasicTransform\n",
    "\n",
    "\n",
    "LANGS = {\n",
    "    'en': 'english',\n",
    "    'it': 'italian', \n",
    "    'fr': 'french', \n",
    "    'es': 'spanish',\n",
    "    'tr': 'turkish', \n",
    "    'ru': 'russian',\n",
    "    'pt': 'portuguese'\n",
    "}\n",
    "\n",
    "def get_sentences(text, lang='en'):\n",
    "    return sent_tokenize(text, LANGS.get(lang, 'english'))\n",
    "\n",
    "def exclude_duplicate_sentences(text, lang='en'):\n",
    "    sentences = []\n",
    "    for sentence in get_sentences(text, lang):\n",
    "        sentence = sentence.strip()\n",
    "        if sentence not in sentences:\n",
    "            sentences.append(sentence)\n",
    "    return ' '.join(sentences)\n",
    "\n",
    "def clean_text(text, lang='en'):\n",
    "    text = str(text)\n",
    "    text = re.sub(r'[0-9\"]', '', text)\n",
    "    text = re.sub(r'#[\\S]+\\b', '', text)\n",
    "    text = re.sub(r'@[\\S]+\\b', '', text)\n",
    "    text = re.sub(r'https?\\S+', '', text)\n",
    "    text = re.sub(r'\\s+', ' ', text)\n",
    "    text = exclude_duplicate_sentences(text, lang)\n",
    "    return text.strip()\n",
    "\n",
    "\n",
    "class NLPTransform(BasicTransform):\n",
    "    \"\"\" Transform for nlp task.\"\"\"\n",
    "\n",
    "    @property\n",
    "    def targets(self):\n",
    "        return {\"data\": self.apply}\n",
    "    \n",
    "    def update_params(self, params, **kwargs):\n",
    "        if hasattr(self, \"interpolation\"):\n",
    "            params[\"interpolation\"] = self.interpolation\n",
    "        if hasattr(self, \"fill_value\"):\n",
    "            params[\"fill_value\"] = self.fill_value\n",
    "        return params\n",
    "\n",
    "    def get_sentences(self, text, lang='en'):\n",
    "        return sent_tokenize(text, LANGS.get(lang, 'english'))\n",
    "\n",
    "class ShuffleSentencesTransform(NLPTransform):\n",
    "    \"\"\" Do shuffle by sentence \"\"\"\n",
    "    def __init__(self, always_apply=False, p=0.5):\n",
    "        super(ShuffleSentencesTransform, self).__init__(always_apply, p)\n",
    "\n",
    "    def apply(self, data, **params):\n",
    "        text, lang = data\n",
    "        sentences = self.get_sentences(text, lang)\n",
    "        random.shuffle(sentences)\n",
    "        return ' '.join(sentences), lang\n",
    "\n",
    "class ExcludeDuplicateSentencesTransform(NLPTransform):\n",
    "    \"\"\" Exclude equal sentences \"\"\"\n",
    "    def __init__(self, always_apply=False, p=0.5):\n",
    "        super(ExcludeDuplicateSentencesTransform, self).__init__(always_apply, p)\n",
    "\n",
    "    def apply(self, data, **params):\n",
    "        text, lang = data\n",
    "        sentences = []\n",
    "        for sentence in self.get_sentences(text, lang):\n",
    "            sentence = sentence.strip()\n",
    "            if sentence not in sentences:\n",
    "                sentences.append(sentence)\n",
    "        return ' '.join(sentences), lang\n",
    "\n",
    "class ExcludeNumbersTransform(NLPTransform):\n",
    "    \"\"\" exclude any numbers \"\"\"\n",
    "    def __init__(self, always_apply=False, p=0.5):\n",
    "        super(ExcludeNumbersTransform, self).__init__(always_apply, p)\n",
    "\n",
    "    def apply(self, data, **params):\n",
    "        text, lang = data\n",
    "        text = re.sub(r'[0-9]', '', text)\n",
    "        text = re.sub(r'\\s+', ' ', text)\n",
    "        return text, lang\n",
    "\n",
    "class ExcludeHashtagsTransform(NLPTransform):\n",
    "    \"\"\" Exclude any hashtags with # \"\"\"\n",
    "    def __init__(self, always_apply=False, p=0.5):\n",
    "        super(ExcludeHashtagsTransform, self).__init__(always_apply, p)\n",
    "\n",
    "    def apply(self, data, **params):\n",
    "        text, lang = data\n",
    "        text = re.sub(r'#[\\S]+\\b', '', text)\n",
    "        text = re.sub(r'\\s+', ' ', text)\n",
    "        return text, lang\n",
    "\n",
    "class ExcludeUsersMentionedTransform(NLPTransform):\n",
    "    \"\"\" Exclude @users \"\"\"\n",
    "    def __init__(self, always_apply=False, p=0.5):\n",
    "        super(ExcludeUsersMentionedTransform, self).__init__(always_apply, p)\n",
    "\n",
    "    def apply(self, data, **params):\n",
    "        text, lang = data\n",
    "        text = re.sub(r'@[\\S]+\\b', '', text)\n",
    "        text = re.sub(r'\\s+', ' ', text)\n",
    "        return text, lang\n",
    "\n",
    "class ExcludeUrlsTransform(NLPTransform):\n",
    "    \"\"\" Exclude urls \"\"\"\n",
    "    def __init__(self, always_apply=False, p=0.5):\n",
    "        super(ExcludeUrlsTransform, self).__init__(always_apply, p)\n",
    "\n",
    "    def apply(self, data, **params):\n",
    "        text, lang = data\n",
    "        text = re.sub(r'https?\\S+', '', text)\n",
    "        text = re.sub(r'\\s+', ' ', text)\n",
    "        return text, lang"
   ]
  },
  {
   "cell_type": "markdown",
   "metadata": {
    "colab_type": "text",
    "id": "rSRp4Vj8y-ao"
   },
   "source": [
    "### Pseudo-labeling with open-subtitles"
   ]
  },
  {
   "cell_type": "code",
   "execution_count": 7,
   "metadata": {
    "colab": {},
    "colab_type": "code",
    "executionInfo": {
     "elapsed": 89571,
     "status": "ok",
     "timestamp": 1592589740984,
     "user": {
      "displayName": "Tonghua Zhang",
      "photoUrl": "https://lh3.googleusercontent.com/a-/AOh14GitTdIZ9rdil0rSReBpAdLDKywxi3SxtC8mH-CB=s64",
      "userId": "10197665388177589892"
     },
     "user_tz": -480
    },
    "id": "B5RnT3ugy-ao"
   },
   "outputs": [],
   "source": [
    "class SynthesicOpenSubtitlesTransform(NLPTransform):\n",
    "    def __init__(self, always_apply=False, p=0.5):\n",
    "        super(SynthesicOpenSubtitlesTransform, self).__init__(always_apply, p)\n",
    "        df = pd.read_csv(f'{ROOT_PATH}open-subtitles-synthesic.csv', index_col='id')[['comment_text', 'toxic', 'lang']]\n",
    "        df = df[~df['comment_text'].isna()]\n",
    "        df['comment_text'] = df.parallel_apply(lambda x: clean_text(x['comment_text'], x['lang']), axis=1)\n",
    "        df = df.drop_duplicates(subset='comment_text')\n",
    "        df['toxic'] = df['toxic'].round().astype(np.int)\n",
    "\n",
    "        self.synthesic_toxic = df[df['toxic'] == 1].comment_text.values\n",
    "        self.synthesic_non_toxic = df[df['toxic'] == 0].comment_text.values\n",
    "\n",
    "        del df\n",
    "        gc.collect();\n",
    "\n",
    "    def generate_synthesic_sample(self, text, toxic):\n",
    "        texts = [text]\n",
    "        if toxic == 0:\n",
    "            for i in range(random.randint(1,5)):\n",
    "                texts.append(random.choice(self.synthesic_non_toxic))\n",
    "        else:\n",
    "            for i in range(random.randint(0,2)):\n",
    "                texts.append(random.choice(self.synthesic_non_toxic))\n",
    "            \n",
    "            for i in range(random.randint(1,3)):\n",
    "                texts.append(random.choice(self.synthesic_toxic))\n",
    "        random.shuffle(texts)\n",
    "        return ' '.join(texts)\n",
    "\n",
    "    def apply(self, data, **params):\n",
    "        text, toxic = data\n",
    "        text = self.generate_synthesic_sample(text, toxic)\n",
    "        return text, toxic"
   ]
  },
  {
   "cell_type": "code",
   "execution_count": 8,
   "metadata": {
    "colab": {
     "base_uri": "https://localhost:8080/",
     "height": 114,
     "referenced_widgets": [
      "6c4640bb43f34960a49ab9b107649c25",
      "4e5a32aec1e94c398eb0a6a30cb35e86",
      "6bc958a6add042898ef78f52235d28fa",
      "4ae8e260f9d149c1b66ddef3db9ab509",
      "51890a9f988543feafea5b0edaa83674",
      "bd870deec25b40ef8cd678945d92fa0f",
      "509f2315b66b408b970da9fa1136adec",
      "d163e929d1284092adb135bf97c09616",
      "14f56098f6bf4e6084945e3e69a9dcc3",
      "c5baa2be187e453a832f843cc6c46263",
      "9e196c6d7d67447a9c3e6b8c9a575b4b",
      "7483fd3e0e9e4b57a6124254b8433c70",
      "83d9089551934a2699d84fc6c09ec2cf",
      "ebb4878324704a00974c5c54a97b7596",
      "3af61b033d56455494625cd24c46bd44",
      "7a6d9590250448c38d69c3c07554f47e"
     ]
    },
    "colab_type": "code",
    "executionInfo": {
     "elapsed": 124791,
     "status": "ok",
     "timestamp": 1592589776216,
     "user": {
      "displayName": "Tonghua Zhang",
      "photoUrl": "https://lh3.googleusercontent.com/a-/AOh14GitTdIZ9rdil0rSReBpAdLDKywxi3SxtC8mH-CB=s64",
      "userId": "10197665388177589892"
     },
     "user_tz": -480
    },
    "id": "kgQvl9NEy-aq",
    "outputId": "b5fa3ca1-5b4a-483f-a0e6-64b5043d22f4"
   },
   "outputs": [
    {
     "data": {
      "application/vnd.jupyter.widget-view+json": {
       "model_id": "6c4640bb43f34960a49ab9b107649c25",
       "version_major": 2,
       "version_minor": 0
      },
      "text/plain": [
       "HBox(children=(FloatProgress(value=0.0, description='Downloading', max=5715183.0, style=ProgressStyle(descript…"
      ]
     },
     "metadata": {
      "tags": []
     },
     "output_type": "display_data"
    },
    {
     "name": "stdout",
     "output_type": "stream",
     "text": [
      "\n"
     ]
    },
    {
     "data": {
      "application/vnd.jupyter.widget-view+json": {
       "model_id": "14f56098f6bf4e6084945e3e69a9dcc3",
       "version_major": 2,
       "version_minor": 0
      },
      "text/plain": [
       "HBox(children=(FloatProgress(value=0.0, description='Downloading', max=2973279.0, style=ProgressStyle(descript…"
      ]
     },
     "metadata": {
      "tags": []
     },
     "output_type": "display_data"
    },
    {
     "name": "stdout",
     "output_type": "stream",
     "text": [
      "\n"
     ]
    }
   ],
   "source": [
    "def get_train_transforms():\n",
    "    return albumentations.Compose([\n",
    "        ExcludeUsersMentionedTransform(p=0.95),\n",
    "        ExcludeUrlsTransform(p=0.95),\n",
    "        ExcludeNumbersTransform(p=0.95),\n",
    "        ExcludeHashtagsTransform(p=0.95),\n",
    "        ExcludeDuplicateSentencesTransform(p=0.95),\n",
    "    ], p=1.0)\n",
    "\n",
    "def get_synthesic_transforms():\n",
    "    return SynthesicOpenSubtitlesTransform(p=0.5)\n",
    "\n",
    "\n",
    "train_transforms = get_train_transforms();\n",
    "synthesic_transforms = get_synthesic_transforms()\n",
    "tokenizer = XLMTokenizer.from_pretrained(BACKBONE_PATH)\n",
    "shuffle_transforms = ShuffleSentencesTransform(always_apply=True)"
   ]
  },
  {
   "cell_type": "code",
   "execution_count": 9,
   "metadata": {
    "colab": {},
    "colab_type": "code",
    "executionInfo": {
     "elapsed": 124789,
     "status": "ok",
     "timestamp": 1592589776217,
     "user": {
      "displayName": "Tonghua Zhang",
      "photoUrl": "https://lh3.googleusercontent.com/a-/AOh14GitTdIZ9rdil0rSReBpAdLDKywxi3SxtC8mH-CB=s64",
      "userId": "10197665388177589892"
     },
     "user_tz": -480
    },
    "id": "XFeoA7D1y-as"
   },
   "outputs": [],
   "source": [
    "def onehot(size, target):\n",
    "    vec = torch.zeros(size, dtype=torch.float32)\n",
    "    vec[target] = 1.\n",
    "    return vec\n",
    "\n",
    "class DatasetRetriever(Dataset):\n",
    "\n",
    "    def __init__(self, labels_or_ids, comment_texts, langs, use_train_transforms=False, test=False):\n",
    "        self.test = test\n",
    "        self.labels_or_ids = labels_or_ids\n",
    "        self.comment_texts = comment_texts\n",
    "        self.langs = langs\n",
    "        self.use_train_transforms = use_train_transforms\n",
    "        \n",
    "    def get_tokens(self, text):\n",
    "        encoded = tokenizer.encode_plus(\n",
    "            text, \n",
    "            add_special_tokens=True, \n",
    "            max_length=MAX_LENGTH, \n",
    "            pad_to_max_length=True\n",
    "        )\n",
    "        return encoded['input_ids'], encoded['attention_mask']\n",
    "\n",
    "    def __len__(self):\n",
    "        return self.comment_texts.shape[0]\n",
    "\n",
    "    def __getitem__(self, idx):\n",
    "        text = self.comment_texts[idx]\n",
    "        lang = self.langs[idx]\n",
    "        if self.test is False:\n",
    "            label = self.labels_or_ids[idx]\n",
    "            target = onehot(2, label)\n",
    "\n",
    "        if self.use_train_transforms:\n",
    "            text, _ = train_transforms(data=(text, lang))['data']\n",
    "            tokens, attention_mask = self.get_tokens(str(text))\n",
    "            token_length = sum(attention_mask)\n",
    "            if token_length > 0.8*MAX_LENGTH:\n",
    "                text, _ = shuffle_transforms(data=(text, lang))['data']\n",
    "            elif token_length < 60:\n",
    "                text, _ = synthesic_transforms(data=(text, label))['data']\n",
    "            else:\n",
    "                tokens, attention_mask = torch.tensor(tokens), torch.tensor(attention_mask)\n",
    "                return target, tokens, attention_mask\n",
    "\n",
    "        tokens, attention_mask = self.get_tokens(str(text))\n",
    "        tokens, attention_mask = torch.tensor(tokens), torch.tensor(attention_mask)\n",
    "\n",
    "        if self.test is False:\n",
    "            return target, tokens, attention_mask\n",
    "        return self.labels_or_ids[idx], tokens, attention_mask\n",
    "\n",
    "    def get_labels(self):\n",
    "        return list(np.char.add(self.labels_or_ids.astype(str), self.langs))"
   ]
  },
  {
   "cell_type": "code",
   "execution_count": 10,
   "metadata": {
    "colab": {
     "base_uri": "https://localhost:8080/",
     "height": 168
    },
    "colab_type": "code",
    "executionInfo": {
     "elapsed": 142687,
     "status": "ok",
     "timestamp": 1592589794124,
     "user": {
      "displayName": "Tonghua Zhang",
      "photoUrl": "https://lh3.googleusercontent.com/a-/AOh14GitTdIZ9rdil0rSReBpAdLDKywxi3SxtC8mH-CB=s64",
      "userId": "10197665388177589892"
     },
     "user_tz": -480
    },
    "id": "o2oA_zuOy-av",
    "outputId": "5f9684a2-9791-4486-a6dd-45cf68cc96ce"
   },
   "outputs": [
    {
     "name": "stderr",
     "output_type": "stream",
     "text": [
      "<string>:2: DtypeWarning:\n",
      "\n",
      "Columns (0) have mixed types.Specify dtype option on import or set low_memory=False.\n",
      "\n"
     ]
    },
    {
     "name": "stdout",
     "output_type": "stream",
     "text": [
      "tensor([1., 0.])\n",
      "torch.Size([224])\n",
      "torch.Size([224])\n",
      "CPU times: user 14.3 s, sys: 1.98 s, total: 16.3 s\n",
      "Wall time: 18 s\n"
     ]
    }
   ],
   "source": [
    "%%time\n",
    "\n",
    "df_train = pd.read_csv(f'{ROOT_PATH}train_data.csv')\n",
    "\n",
    "\n",
    "train_dataset = DatasetRetriever(\n",
    "    labels_or_ids=df_train['toxic'].values, \n",
    "    comment_texts=df_train['comment_text'].values, \n",
    "    langs=df_train['lang'].values,\n",
    "    use_train_transforms=True,\n",
    ")\n",
    "\n",
    "del df_train\n",
    "gc.collect();\n",
    "\n",
    "for targets, tokens, attention_masks in train_dataset:\n",
    "    break\n",
    "    \n",
    "print(targets)\n",
    "print(tokens.shape)\n",
    "print(attention_masks.shape)"
   ]
  },
  {
   "cell_type": "markdown",
   "metadata": {
    "colab_type": "text",
    "id": "XQUoRPtsy-aw"
   },
   "source": [
    "### Class Balance"
   ]
  },
  {
   "cell_type": "code",
   "execution_count": 11,
   "metadata": {
    "colab": {
     "base_uri": "https://localhost:8080/",
     "height": 50
    },
    "colab_type": "code",
    "executionInfo": {
     "elapsed": 148321,
     "status": "ok",
     "timestamp": 1592589799769,
     "user": {
      "displayName": "Tonghua Zhang",
      "photoUrl": "https://lh3.googleusercontent.com/a-/AOh14GitTdIZ9rdil0rSReBpAdLDKywxi3SxtC8mH-CB=s64",
      "userId": "10197665388177589892"
     },
     "user_tz": -480
    },
    "id": "3HrowP2py-ax",
    "outputId": "40760787-6bef-436d-ef4b-b7b7436f0315"
   },
   "outputs": [
    {
     "data": {
      "text/plain": [
       "array(['0en', '0es', '0fr', '0it', '0pt', '0ru', '0tr', '1en', '1es',\n",
       "       '1fr', '1it', '1pt', '1ru', '1tr'], dtype='<U3')"
      ]
     },
     "execution_count": 11,
     "metadata": {
      "tags": []
     },
     "output_type": "execute_result"
    }
   ],
   "source": [
    "np.unique(train_dataset.get_labels())"
   ]
  },
  {
   "cell_type": "code",
   "execution_count": 12,
   "metadata": {
    "colab": {
     "base_uri": "https://localhost:8080/",
     "height": 67
    },
    "colab_type": "code",
    "executionInfo": {
     "elapsed": 149513,
     "status": "ok",
     "timestamp": 1592589800973,
     "user": {
      "displayName": "Tonghua Zhang",
      "photoUrl": "https://lh3.googleusercontent.com/a-/AOh14GitTdIZ9rdil0rSReBpAdLDKywxi3SxtC8mH-CB=s64",
      "userId": "10197665388177589892"
     },
     "user_tz": -480
    },
    "id": "7X75Ugh_y-az",
    "outputId": "d18a840c-7f2f-4728-d893-6b3c339fe225"
   },
   "outputs": [
    {
     "name": "stdout",
     "output_type": "stream",
     "text": [
      "tensor([1., 0.])\n",
      "torch.Size([224])\n",
      "torch.Size([224])\n"
     ]
    }
   ],
   "source": [
    "df_val = pd.read_csv(f'{ROOT_PATH}validation.csv', index_col='id')\n",
    "\n",
    "validation_tune_dataset = DatasetRetriever(\n",
    "    labels_or_ids=df_val['toxic'].values, \n",
    "    comment_texts=df_val['comment_text'].values, \n",
    "    langs=df_val['lang'].values,\n",
    "    use_train_transforms=True,\n",
    ")\n",
    "\n",
    "df_val['comment_text'] = df_val.parallel_apply(lambda x: clean_text(x['comment_text'], x['lang']), axis=1)\n",
    "\n",
    "validation_dataset = DatasetRetriever(\n",
    "    labels_or_ids=df_val['toxic'].values, \n",
    "    comment_texts=df_val['comment_text'].values, \n",
    "    langs=df_val['lang'].values,\n",
    "    use_train_transforms=False,\n",
    ")\n",
    "\n",
    "del df_val\n",
    "gc.collect();\n",
    "\n",
    "for targets, tokens, attention_masks in validation_dataset:\n",
    "    break\n",
    "\n",
    "print(targets)\n",
    "print(tokens.shape)\n",
    "print(attention_masks.shape)"
   ]
  },
  {
   "cell_type": "code",
   "execution_count": 13,
   "metadata": {
    "colab": {
     "base_uri": "https://localhost:8080/",
     "height": 67
    },
    "colab_type": "code",
    "executionInfo": {
     "elapsed": 155977,
     "status": "ok",
     "timestamp": 1592589807447,
     "user": {
      "displayName": "Tonghua Zhang",
      "photoUrl": "https://lh3.googleusercontent.com/a-/AOh14GitTdIZ9rdil0rSReBpAdLDKywxi3SxtC8mH-CB=s64",
      "userId": "10197665388177589892"
     },
     "user_tz": -480
    },
    "id": "3mfVTZV7y-a0",
    "outputId": "8d6d2c87-9d53-40b5-a8fa-328138b822d6"
   },
   "outputs": [
    {
     "name": "stdout",
     "output_type": "stream",
     "text": [
      "0\n",
      "torch.Size([224])\n",
      "torch.Size([224])\n"
     ]
    }
   ],
   "source": [
    "df_test = pd.read_csv(f'{ROOT_PATH}test.csv', index_col='id')\n",
    "df_test['comment_text'] = df_test.parallel_apply(lambda x: clean_text(x['content'], x['lang']), axis=1)\n",
    "\n",
    "test_dataset = DatasetRetriever(\n",
    "    labels_or_ids=df_test.index.values, \n",
    "    comment_texts=df_test['comment_text'].values, \n",
    "    langs=df_test['lang'].values,\n",
    "    use_train_transforms=False,\n",
    "    test=True\n",
    ")\n",
    "\n",
    "del df_test\n",
    "gc.collect();\n",
    "\n",
    "for ids, tokens, attention_masks in test_dataset:\n",
    "    break\n",
    "\n",
    "print(ids)\n",
    "print(tokens.shape)\n",
    "print(attention_masks.shape)"
   ]
  },
  {
   "cell_type": "code",
   "execution_count": 14,
   "metadata": {
    "colab": {},
    "colab_type": "code",
    "executionInfo": {
     "elapsed": 155974,
     "status": "ok",
     "timestamp": 1592589807447,
     "user": {
      "displayName": "Tonghua Zhang",
      "photoUrl": "https://lh3.googleusercontent.com/a-/AOh14GitTdIZ9rdil0rSReBpAdLDKywxi3SxtC8mH-CB=s64",
      "userId": "10197665388177589892"
     },
     "user_tz": -480
    },
    "id": "SUBHlj11y-a2"
   },
   "outputs": [],
   "source": [
    "class RocAucMeter(object):\n",
    "    def __init__(self):\n",
    "        self.reset()\n",
    "\n",
    "    def reset(self):\n",
    "        self.y_true = np.array([0,1])\n",
    "        self.y_pred = np.array([0.5,0.5])\n",
    "        self.score = 0\n",
    "\n",
    "    def update(self, y_true, y_pred):\n",
    "        y_true = y_true.cpu().numpy().argmax(axis=1)\n",
    "        y_pred = nn.functional.softmax(y_pred, dim=1).data.cpu().numpy()[:,1]\n",
    "        self.y_true = np.hstack((self.y_true, y_true))\n",
    "        self.y_pred = np.hstack((self.y_pred, y_pred))\n",
    "        self.score = sklearn.metrics.roc_auc_score(self.y_true, self.y_pred, labels=np.array([0, 1]))\n",
    "    \n",
    "    @property\n",
    "    def avg(self):\n",
    "        return self.score\n",
    "\n",
    "class AverageMeter(object):\n",
    "    \"\"\"Computes and stores the average and current value\"\"\"\n",
    "    def __init__(self):\n",
    "        self.reset()\n",
    "\n",
    "    def reset(self):\n",
    "        self.val = 0\n",
    "        self.avg = 0\n",
    "        self.sum = 0\n",
    "        self.count = 0\n",
    "\n",
    "    def update(self, val, n=1):\n",
    "        self.val = val\n",
    "        self.sum += val * n\n",
    "        self.count += n\n",
    "        self.avg = self.sum / self.count"
   ]
  },
  {
   "cell_type": "code",
   "execution_count": 15,
   "metadata": {
    "colab": {},
    "colab_type": "code",
    "executionInfo": {
     "elapsed": 155970,
     "status": "ok",
     "timestamp": 1592589807448,
     "user": {
      "displayName": "Tonghua Zhang",
      "photoUrl": "https://lh3.googleusercontent.com/a-/AOh14GitTdIZ9rdil0rSReBpAdLDKywxi3SxtC8mH-CB=s64",
      "userId": "10197665388177589892"
     },
     "user_tz": -480
    },
    "id": "S-EsMfZLy-a5"
   },
   "outputs": [],
   "source": [
    "class LabelSmoothing(nn.Module):\n",
    "    def __init__(self, smoothing = 0.1):\n",
    "        super(LabelSmoothing, self).__init__()\n",
    "        self.confidence = 1.0 - smoothing\n",
    "        self.smoothing = smoothing\n",
    "\n",
    "    def forward(self, x, target):\n",
    "        if self.training:\n",
    "            x = x.float()\n",
    "            target = target.float()\n",
    "            logprobs = torch.nn.functional.log_softmax(x, dim = -1)\n",
    "            nll_loss = -logprobs * target\n",
    "            nll_loss = nll_loss.sum(-1)\n",
    "            smooth_loss = -logprobs.mean(dim=-1)\n",
    "            loss = self.confidence * nll_loss + self.smoothing * smooth_loss\n",
    "            return loss.mean()\n",
    "        else:\n",
    "            return torch.nn.functional.cross_entropy(x, target)"
   ]
  },
  {
   "cell_type": "code",
   "execution_count": 16,
   "metadata": {
    "colab": {},
    "colab_type": "code",
    "executionInfo": {
     "elapsed": 156255,
     "status": "ok",
     "timestamp": 1592589807737,
     "user": {
      "displayName": "Tonghua Zhang",
      "photoUrl": "https://lh3.googleusercontent.com/a-/AOh14GitTdIZ9rdil0rSReBpAdLDKywxi3SxtC8mH-CB=s64",
      "userId": "10197665388177589892"
     },
     "user_tz": -480
    },
    "id": "0xbh373Xy-a7"
   },
   "outputs": [],
   "source": [
    "import warnings\n",
    "\n",
    "warnings.filterwarnings(\"ignore\")\n",
    "\n",
    "import torch_xla\n",
    "import torch_xla.core.xla_model as xm\n",
    "import torch_xla.distributed.parallel_loader as pl\n",
    "import torch_xla.distributed.xla_multiprocessing as xmp\n",
    "\n",
    "from catalyst.data.sampler import DistributedSamplerWrapper, BalanceClassSampler\n",
    "\n",
    "class TPUFitter:\n",
    "    \n",
    "    def __init__(self, model, device, config):\n",
    "        if not os.path.exists(f'{ROOT_PATH}node_submissions'):\n",
    "            os.makedirs(f'{ROOT_PATH}node_submissions')\n",
    "\n",
    "        self.config = config\n",
    "        self.epoch = 0\n",
    "        self.log_path = f'{ROOT_PATH}log.txt'\n",
    "\n",
    "        self.model = model\n",
    "        self.device = device\n",
    "\n",
    "        param_optimizer = list(self.model.named_parameters())\n",
    "        no_decay = ['bias', 'LayerNorm.bias', 'LayerNorm.weight']\n",
    "        optimizer_grouped_parameters = [\n",
    "            {'params': [p for n, p in param_optimizer if not any(nd in n for nd in no_decay)], 'weight_decay': 0.001},\n",
    "            {'params': [p for n, p in param_optimizer if any(nd in n for nd in no_decay)], 'weight_decay': 0.0}\n",
    "        ]\n",
    "\n",
    "        self.optimizer = AdamW(optimizer_grouped_parameters, lr=config.lr*xm.xrt_world_size())\n",
    "        self.scheduler = config.SchedulerClass(self.optimizer, **config.scheduler_params)\n",
    "\n",
    "        self.criterion = config.criterion\n",
    "        xm.master_print(f'Fitter prepared. Device is {self.device}')\n",
    "\n",
    "    def fit(self, train_loader, validation_loader):\n",
    "        for e in range(self.config.n_epochs):\n",
    "            if self.config.verbose:\n",
    "                lr = self.optimizer.param_groups[0]['lr']\n",
    "                timestamp = datetime.utcnow().isoformat()\n",
    "                self.log(f'\\n{timestamp}\\nLR: {lr}')\n",
    "\n",
    "            t = time.time()\n",
    "            para_loader = pl.ParallelLoader(train_loader, [self.device])\n",
    "            losses, final_scores = self.train_one_epoch(para_loader.per_device_loader(self.device))\n",
    "            \n",
    "            self.log(f'[RESULT]: Train. Epoch: {self.epoch}, loss: {losses.avg:.5f}, final_score: {final_scores.avg:.5f}, time: {(time.time() - t):.5f}')\n",
    "\n",
    "            t = time.time()\n",
    "            para_loader = pl.ParallelLoader(validation_loader, [self.device])\n",
    "            losses, final_scores = self.validation(para_loader.per_device_loader(self.device))\n",
    "\n",
    "            self.log(f'[RESULT]: Validation. Epoch: {self.epoch}, loss: {losses.avg:.5f}, final_score: {final_scores.avg:.5f}, time: {(time.time() - t):.5f}')\n",
    "\n",
    "            if self.config.validation_scheduler:\n",
    "                self.scheduler.step(metrics=final_scores.avg)\n",
    "\n",
    "            self.epoch += 1\n",
    "    \n",
    "    def run_tuning_and_inference(self, test_loader, validation_tune_loader):\n",
    "        for e in range(3):\n",
    "            self.optimizer.param_groups[0]['lr'] = self.config.lr*xm.xrt_world_size() / (e + 1)\n",
    "            para_loader = pl.ParallelLoader(validation_tune_loader, [self.device])\n",
    "            losses, final_scores = self.train_one_epoch(para_loader.per_device_loader(self.device))\n",
    "            para_loader = pl.ParallelLoader(test_loader, [self.device])\n",
    "            self.run_inference(para_loader.per_device_loader(self.device))\n",
    "\n",
    "    def validation(self, val_loader):\n",
    "        self.model.eval()\n",
    "        losses = AverageMeter()\n",
    "        final_scores = RocAucMeter()\n",
    "\n",
    "        t = time.time()\n",
    "        for step, (targets, inputs, attention_masks) in enumerate(val_loader):\n",
    "            if self.config.verbose:\n",
    "                if step % self.config.verbose_step == 0:\n",
    "                    xm.master_print(\n",
    "                        f'Valid Step {step}, loss: ' + \\\n",
    "                        f'{losses.avg:.5f}, final_score: {final_scores.avg:.5f}, ' + \\\n",
    "                        f'time: {(time.time() - t):.5f}'\n",
    "                    )\n",
    "            with torch.no_grad():\n",
    "                inputs = inputs.to(self.device, dtype=torch.long) \n",
    "                attention_masks = attention_masks.to(self.device, dtype=torch.long) \n",
    "                targets = targets.to(self.device, dtype=torch.float) \n",
    "\n",
    "                outputs = self.model(inputs, attention_masks)\n",
    "                loss = self.criterion(outputs, targets)\n",
    "                \n",
    "                batch_size = inputs.size(0)\n",
    "\n",
    "                final_scores.update(targets, outputs)\n",
    "                losses.update(loss.detach().item(), batch_size)\n",
    "                \n",
    "        return losses, final_scores\n",
    "         \n",
    "    def train_one_epoch(self, train_loader):\n",
    "        self.model.train()\n",
    "\n",
    "        losses = AverageMeter()\n",
    "        final_scores = RocAucMeter()\n",
    "        t = time.time()\n",
    "        for step, (targets, inputs, attention_masks) in enumerate(train_loader):   \n",
    "            if self.config.verbose:\n",
    "                if step % self.config.verbose_step == 0:\n",
    "                    self.log(\n",
    "                        f'Train Step {step}, loss: ' + \\\n",
    "                        f'{losses.avg:.5f}, final_score: {final_scores.avg:.5f}, ' + \\\n",
    "                        f'time: {(time.time() - t):.5f}'\n",
    "                    )\n",
    "\n",
    "            inputs = inputs.to(self.device, dtype=torch.long)\n",
    "            attention_masks = attention_masks.to(self.device, dtype=torch.long)\n",
    "            targets = targets.to(self.device, dtype=torch.float)\n",
    "\n",
    "            self.optimizer.zero_grad()\n",
    "\n",
    "            outputs = self.model(inputs, attention_masks)\n",
    "            loss = self.criterion(outputs, targets)\n",
    "\n",
    "            batch_size = inputs.size(0)\n",
    "            \n",
    "            final_scores.update(targets, outputs)\n",
    "            \n",
    "            losses.update(loss.detach().item(), batch_size)\n",
    "\n",
    "            loss.backward()\n",
    "            xm.optimizer_step(self.optimizer)\n",
    "\n",
    "            if self.config.step_scheduler:\n",
    "                self.scheduler.step()\n",
    "        \n",
    "        self.model.eval()\n",
    "        self.save(f'{ROOT_PATH}last-checkpoint.bin')\n",
    "        return losses, final_scores\n",
    "\n",
    "    def run_inference(self, test_loader):\n",
    "        self.model.eval()\n",
    "        result = {'id': [], 'toxic': []}\n",
    "        t = time.time()\n",
    "        for step, (ids, inputs, attention_masks) in enumerate(test_loader):\n",
    "            if self.config.verbose:\n",
    "                if step % self.config.verbose_step == 0:\n",
    "                    xm.master_print(f'Prediction Step {step}, time: {(time.time() - t):.5f}')\n",
    "\n",
    "            with torch.no_grad():\n",
    "                inputs = inputs.to(self.device, dtype=torch.long) \n",
    "                attention_masks = attention_masks.to(self.device, dtype=torch.long)\n",
    "                outputs = self.model(inputs, attention_masks)\n",
    "                toxics = nn.functional.softmax(outputs, dim=1).data.cpu().numpy()[:,1]\n",
    "\n",
    "            result['id'].extend(ids.cpu().numpy())\n",
    "            result['toxic'].extend(toxics)\n",
    "\n",
    "        result = pd.DataFrame(result)\n",
    "        node_count = len(glob(f'{ROOT_PATH}node_submissions/*.csv'))\n",
    "        result.to_csv(f'{ROOT_PATH}node_submissions/submission_{node_count}_{datetime.utcnow().microsecond}_{random.random()}.csv', index=False)\n",
    "\n",
    "    def save(self, path):        \n",
    "        xm.save(self.model.state_dict(), path)\n",
    "\n",
    "    def log(self, message):\n",
    "        if self.config.verbose:\n",
    "            xm.master_print(message)\n",
    "        with open(self.log_path, 'a+') as logger:\n",
    "            xm.master_print(f'{message}', logger)"
   ]
  },
  {
   "cell_type": "markdown",
   "metadata": {
    "colab_type": "text",
    "id": "HWYvnqe-y-a9"
   },
   "source": [
    "### Model"
   ]
  },
  {
   "cell_type": "code",
   "execution_count": 17,
   "metadata": {
    "colab": {},
    "colab_type": "code",
    "executionInfo": {
     "elapsed": 156573,
     "status": "ok",
     "timestamp": 1592589808058,
     "user": {
      "displayName": "Tonghua Zhang",
      "photoUrl": "https://lh3.googleusercontent.com/a-/AOh14GitTdIZ9rdil0rSReBpAdLDKywxi3SxtC8mH-CB=s64",
      "userId": "10197665388177589892"
     },
     "user_tz": -480
    },
    "id": "q7gaj2h7y-a9"
   },
   "outputs": [],
   "source": [
    "from transformers import XLMModel\n",
    "\n",
    "class ToxicSimpleNNModel(nn.Module):\n",
    "\n",
    "    def __init__(self):\n",
    "        super(ToxicSimpleNNModel, self).__init__()\n",
    "        self.backbone = XLMModel.from_pretrained(BACKBONE_PATH)\n",
    "        # self.dropout = nn.Dropout(0.3)\n",
    "        self.dropouts = nn.ModuleList([\n",
    "            nn.Dropout(0.5) for _ in range(5)\n",
    "        ])\n",
    "        self.linear = nn.Linear(\n",
    "            in_features=1280*2,\n",
    "            out_features=2,\n",
    "        )\n",
    "\n",
    "    def forward(self, input_ids, attention_masks):\n",
    "        bs, seq_length = input_ids.shape\n",
    "        seq_x = self.backbone(input_ids=input_ids, attention_mask=attention_masks)\n",
    "        # seq_x = self.backbone(input_ids=input_ids)\n",
    "        # xm.master_print(seq_x[0])\n",
    "        apool = torch.mean(seq_x[0], 1)\n",
    "        mpool, _ = torch.max(seq_x[0], 1)\n",
    "        x = torch.cat((apool, mpool), 1)\n",
    "        # x = self.dropout(x)\n",
    "        for i, dropout in enumerate(self.dropouts):\n",
    "          if i == 0:\n",
    "              h = self.linear(dropout(x))\n",
    "          else:\n",
    "              h += self.linear(dropout(x))\n",
    "        return h / len(self.dropouts)"
   ]
  },
  {
   "cell_type": "code",
   "execution_count": 18,
   "metadata": {
    "colab": {
     "base_uri": "https://localhost:8080/",
     "height": 114,
     "referenced_widgets": [
      "7fbf3d59ec1a41069e4abd79df167cf7",
      "4b451dfdadf44cb7a30a96f1a4907782",
      "608cc0765d2b4754acab1e497dadf096",
      "dae78d916d57413aaedf6a50a0e833f7",
      "c9e93d8a07dd40c08baf1d7fc8a96dae",
      "b621a07b67bd466b9be9c91536b79663",
      "5a97c00b52a345078a9a53ac0653dd46",
      "0c1d9b83803d45e9bc78abf2958d599e",
      "98f8587c058e44b3a57e6829a46dad24",
      "4e34ac314fff4f7e8b04277c7f92c6fb",
      "594d1a6e53a74bf8838ee3bad5ce7baa",
      "ba2ffc7e81c040b5a50e025a126780a3",
      "1d51fbc9145f4f78a75bbc7a5e525caf",
      "cd8ae41d72f048319b91e7a6b751be53",
      "fdd1b98a17ce4926add3ecb3560038b7",
      "e753be2816f8496d83d48c01bee26ce4"
     ]
    },
    "colab_type": "code",
    "executionInfo": {
     "elapsed": 1022069,
     "status": "ok",
     "timestamp": 1592590673567,
     "user": {
      "displayName": "Tonghua Zhang",
      "photoUrl": "https://lh3.googleusercontent.com/a-/AOh14GitTdIZ9rdil0rSReBpAdLDKywxi3SxtC8mH-CB=s64",
      "userId": "10197665388177589892"
     },
     "user_tz": -480
    },
    "id": "1jkO8dIdy-a_",
    "outputId": "ebbf62de-0d8f-4085-ba9f-cff68f2bbd23"
   },
   "outputs": [
    {
     "data": {
      "application/vnd.jupyter.widget-view+json": {
       "model_id": "7fbf3d59ec1a41069e4abd79df167cf7",
       "version_major": 2,
       "version_minor": 0
      },
      "text/plain": [
       "HBox(children=(FloatProgress(value=0.0, description='Downloading', max=41937.0, style=ProgressStyle(descriptio…"
      ]
     },
     "metadata": {
      "tags": []
     },
     "output_type": "display_data"
    },
    {
     "name": "stdout",
     "output_type": "stream",
     "text": [
      "\n"
     ]
    },
    {
     "data": {
      "application/vnd.jupyter.widget-view+json": {
       "model_id": "98f8587c058e44b3a57e6829a46dad24",
       "version_major": 2,
       "version_minor": 0
      },
      "text/plain": [
       "HBox(children=(FloatProgress(value=0.0, description='Downloading', max=1143436263.0, style=ProgressStyle(descr…"
      ]
     },
     "metadata": {
      "tags": []
     },
     "output_type": "display_data"
    },
    {
     "name": "stdout",
     "output_type": "stream",
     "text": [
      "\n"
     ]
    }
   ],
   "source": [
    "net = ToxicSimpleNNModel()"
   ]
  },
  {
   "cell_type": "markdown",
   "metadata": {
    "colab_type": "text",
    "id": "kaRFl8Uuy-bA"
   },
   "source": [
    "# Custom Config"
   ]
  },
  {
   "cell_type": "code",
   "execution_count": 19,
   "metadata": {
    "colab": {},
    "colab_type": "code",
    "executionInfo": {
     "elapsed": 1022069,
     "status": "ok",
     "timestamp": 1592590673569,
     "user": {
      "displayName": "Tonghua Zhang",
      "photoUrl": "https://lh3.googleusercontent.com/a-/AOh14GitTdIZ9rdil0rSReBpAdLDKywxi3SxtC8mH-CB=s64",
      "userId": "10197665388177589892"
     },
     "user_tz": -480
    },
    "id": "Bn5_Gu0ey-bB"
   },
   "outputs": [],
   "source": [
    "class TrainGlobalConfig:\n",
    "    num_workers = 0 \n",
    "    batch_size = 16 \n",
    "    n_epochs = 3\n",
    "    lr = 0.5 * 1e-5\n",
    "    # output_hidden_states=True\n",
    "\n",
    "    # -------------------\n",
    "    verbose = True\n",
    "    verbose_step = 50\n",
    "    # -------------------\n",
    "\n",
    "    # --------------------\n",
    "    step_scheduler = False  # do scheduler.step after optimizer.step\n",
    "    validation_scheduler = True  # do scheduler.step after validation stage loss\n",
    "    SchedulerClass = torch.optim.lr_scheduler.ReduceLROnPlateau\n",
    "    scheduler_params = dict(\n",
    "        mode='max',\n",
    "        factor=0.7,\n",
    "        patience=0,\n",
    "        verbose=False, \n",
    "        threshold=0.0001,\n",
    "        threshold_mode='abs',\n",
    "        cooldown=0, \n",
    "        min_lr=1e-8,\n",
    "        eps=1e-08\n",
    "    )\n",
    "    # --------------------\n",
    "\n",
    "    # -------------------\n",
    "    criterion = LabelSmoothing()\n",
    "    # -------------------"
   ]
  },
  {
   "cell_type": "markdown",
   "metadata": {
    "colab_type": "text",
    "id": "3xyomGIly-bC"
   },
   "source": [
    "### Main method"
   ]
  },
  {
   "cell_type": "code",
   "execution_count": 20,
   "metadata": {
    "colab": {},
    "colab_type": "code",
    "executionInfo": {
     "elapsed": 1022067,
     "status": "ok",
     "timestamp": 1592590673570,
     "user": {
      "displayName": "Tonghua Zhang",
      "photoUrl": "https://lh3.googleusercontent.com/a-/AOh14GitTdIZ9rdil0rSReBpAdLDKywxi3SxtC8mH-CB=s64",
      "userId": "10197665388177589892"
     },
     "user_tz": -480
    },
    "id": "0-iAXa5uy-bD"
   },
   "outputs": [],
   "source": [
    "def _mp_fn(rank, flags):\n",
    "    device = xm.xla_device()\n",
    "    net.to(device)\n",
    "\n",
    "    train_sampler = DistributedSamplerWrapper(\n",
    "        sampler=BalanceClassSampler(labels=train_dataset.get_labels(), mode=\"downsampling\"),\n",
    "        num_replicas=xm.xrt_world_size(),\n",
    "        rank=xm.get_ordinal(),\n",
    "        shuffle=True\n",
    "    )\n",
    "    train_loader = torch.utils.data.DataLoader(\n",
    "        train_dataset,\n",
    "        batch_size=TrainGlobalConfig.batch_size,\n",
    "        sampler=train_sampler,\n",
    "        pin_memory=False,\n",
    "        drop_last=True,\n",
    "        num_workers=TrainGlobalConfig.num_workers,\n",
    "    )\n",
    "    validation_sampler = torch.utils.data.distributed.DistributedSampler(\n",
    "        validation_dataset,\n",
    "        num_replicas=xm.xrt_world_size(),\n",
    "        rank=xm.get_ordinal(),\n",
    "        shuffle=False\n",
    "    )\n",
    "    validation_loader = torch.utils.data.DataLoader(\n",
    "        validation_dataset,\n",
    "        batch_size=TrainGlobalConfig.batch_size,\n",
    "        sampler=validation_sampler,\n",
    "        pin_memory=False,\n",
    "        drop_last=False,\n",
    "        num_workers=TrainGlobalConfig.num_workers\n",
    "    )\n",
    "    validation_tune_sampler = torch.utils.data.distributed.DistributedSampler(\n",
    "        validation_tune_dataset,\n",
    "        num_replicas=xm.xrt_world_size(),\n",
    "        rank=xm.get_ordinal(),\n",
    "        shuffle=True\n",
    "    )\n",
    "    validation_tune_loader = torch.utils.data.DataLoader(\n",
    "        validation_tune_dataset,\n",
    "        batch_size=TrainGlobalConfig.batch_size,\n",
    "        sampler=validation_tune_sampler,\n",
    "        pin_memory=False,\n",
    "        drop_last=False,\n",
    "        num_workers=TrainGlobalConfig.num_workers\n",
    "    )\n",
    "    test_sampler = torch.utils.data.distributed.DistributedSampler(\n",
    "        test_dataset,\n",
    "        num_replicas=xm.xrt_world_size(),\n",
    "        rank=xm.get_ordinal(),\n",
    "        shuffle=False\n",
    "    )\n",
    "    test_loader = torch.utils.data.DataLoader(\n",
    "        test_dataset,\n",
    "        batch_size=TrainGlobalConfig.batch_size,\n",
    "        sampler=test_sampler,\n",
    "        pin_memory=False,\n",
    "        drop_last=False,\n",
    "        num_workers=TrainGlobalConfig.num_workers\n",
    "    )\n",
    "\n",
    "    if rank == 0:\n",
    "        time.sleep(1)\n",
    "    \n",
    "    fitter = TPUFitter(model=net, device=device, config=TrainGlobalConfig)\n",
    "    fitter.fit(train_loader, validation_loader)\n",
    "    fitter.run_tuning_and_inference(test_loader, validation_tune_loader)"
   ]
  },
  {
   "cell_type": "code",
   "execution_count": null,
   "metadata": {
    "colab": {
     "base_uri": "https://localhost:8080/",
     "height": 1000
    },
    "colab_type": "code",
    "id": "ldQkqe5vy-bF",
    "outputId": "b321e32d-8bd6-45f4-f48d-6561b6e4f004"
   },
   "outputs": [
    {
     "name": "stdout",
     "output_type": "stream",
     "text": [
      "Fitter prepared. Device is xla:1\n",
      "\n",
      "2020-06-19T18:18:57.008380\n",
      "LR: 4e-05\n",
      "Train Step 0, loss: 0.00000, final_score: 0.00000, time: 1.36350\n",
      "Train Step 50, loss: 0.67965, final_score: 0.74591, time: 217.07068\n",
      "Train Step 100, loss: 0.58877, final_score: 0.83412, time: 265.06273\n",
      "Train Step 150, loss: 0.53637, final_score: 0.87133, time: 313.18794\n",
      "Train Step 200, loss: 0.50968, final_score: 0.89044, time: 361.47677\n",
      "Train Step 250, loss: 0.49185, final_score: 0.90177, time: 409.62423\n",
      "Train Step 300, loss: 0.47699, final_score: 0.90939, time: 457.91514\n",
      "Train Step 350, loss: 0.46508, final_score: 0.91545, time: 506.03768\n",
      "Train Step 400, loss: 0.45573, final_score: 0.92027, time: 554.18092\n",
      "Train Step 450, loss: 0.44633, final_score: 0.92458, time: 602.49237\n",
      "Train Step 500, loss: 0.43487, final_score: 0.93020, time: 650.70845\n",
      "Train Step 550, loss: 0.42772, final_score: 0.93370, time: 698.90019\n",
      "Train Step 600, loss: 0.42167, final_score: 0.93652, time: 747.28727\n",
      "Train Step 650, loss: 0.41575, final_score: 0.93922, time: 795.55773\n",
      "Train Step 700, loss: 0.41118, final_score: 0.94127, time: 844.12276\n",
      "Train Step 750, loss: 0.40785, final_score: 0.94273, time: 892.28967\n",
      "Train Step 800, loss: 0.40243, final_score: 0.94523, time: 941.07665\n",
      "Train Step 850, loss: 0.39804, final_score: 0.94716, time: 989.69267\n",
      "Train Step 900, loss: 0.39482, final_score: 0.94854, time: 1038.34852\n",
      "Train Step 950, loss: 0.39192, final_score: 0.94975, time: 1086.82485\n",
      "Train Step 1000, loss: 0.38920, final_score: 0.95098, time: 1135.29516\n",
      "Train Step 1050, loss: 0.38680, final_score: 0.95201, time: 1183.84617\n",
      "Train Step 1100, loss: 0.38440, final_score: 0.95294, time: 1232.36091\n",
      "Train Step 1150, loss: 0.38218, final_score: 0.95394, time: 1280.81573\n",
      "Train Step 1200, loss: 0.38084, final_score: 0.95453, time: 1329.50724\n",
      "Train Step 1250, loss: 0.37774, final_score: 0.95591, time: 1378.33408\n",
      "Train Step 1300, loss: 0.37584, final_score: 0.95671, time: 1426.97214\n",
      "Train Step 1350, loss: 0.37458, final_score: 0.95720, time: 1475.33520\n",
      "Train Step 1400, loss: 0.37240, final_score: 0.95812, time: 1524.31989\n",
      "Train Step 1450, loss: 0.37142, final_score: 0.95850, time: 1572.90353\n",
      "Train Step 1500, loss: 0.36959, final_score: 0.95925, time: 1621.76749\n",
      "Train Step 1550, loss: 0.36761, final_score: 0.96008, time: 1670.59493\n",
      "Train Step 1600, loss: 0.36704, final_score: 0.96027, time: 1719.78286\n",
      "Train Step 1650, loss: 0.36514, final_score: 0.96102, time: 1768.61842\n",
      "Train Step 1700, loss: 0.36447, final_score: 0.96123, time: 1817.89103\n",
      "Train Step 1750, loss: 0.36296, final_score: 0.96185, time: 1866.74526\n",
      "Train Step 1800, loss: 0.36201, final_score: 0.96217, time: 1915.58090\n",
      "Train Step 1850, loss: 0.36036, final_score: 0.96285, time: 1964.70752\n",
      "Train Step 1900, loss: 0.35926, final_score: 0.96324, time: 2013.48874\n",
      "Train Step 1950, loss: 0.35827, final_score: 0.96365, time: 2062.25624\n",
      "Train Step 2000, loss: 0.35761, final_score: 0.96389, time: 2110.94612\n",
      "Train Step 2050, loss: 0.35625, final_score: 0.96441, time: 2159.86768\n",
      "Train Step 2100, loss: 0.35571, final_score: 0.96460, time: 2208.80034\n",
      "Train Step 2150, loss: 0.35470, final_score: 0.96500, time: 2257.90438\n",
      "Train Step 2200, loss: 0.35383, final_score: 0.96530, time: 2307.18471\n",
      "Train Step 2250, loss: 0.35332, final_score: 0.96545, time: 2356.46373\n",
      "Train Step 2300, loss: 0.35231, final_score: 0.96585, time: 2405.34089\n",
      "[RESULT]: Train. Epoch: 0, loss: 0.35190, final_score: 0.96601, time: 2484.84151\n",
      "Valid Step 0, loss: 0.00000, final_score: 0.00000, time: 0.14544\n",
      "Valid Step 50, loss: 0.47123, final_score: 0.94222, time: 51.23480\n",
      "[RESULT]: Validation. Epoch: 0, loss: 0.48270, final_score: 0.93361, time: 80.74789\n",
      "\n",
      "2020-06-19T19:01:43.502701\n",
      "LR: 4e-05\n",
      "Train Step 0, loss: 0.00000, final_score: 0.00000, time: 0.96533\n",
      "Train Step 50, loss: 0.31916, final_score: 0.97812, time: 49.49776\n"
     ]
    }
   ],
   "source": [
    "FLAGS={}\n",
    "xmp.spawn(_mp_fn, args=(FLAGS,), nprocs=8, start_method='fork')"
   ]
  },
  {
   "cell_type": "code",
   "execution_count": null,
   "metadata": {
    "colab": {},
    "colab_type": "code",
    "id": "sQtMe6qIy-bH"
   },
   "outputs": [],
   "source": [
    "submission = pd.concat([pd.read_csv(path) for path in glob(f'{ROOT_PATH}node_submissions/*.csv')]).groupby('id').mean()\n",
    "submission['toxic'].hist(bins=100)"
   ]
  }
 ],
 "metadata": {
  "accelerator": "TPU",
  "colab": {
   "collapsed_sections": [],
   "machine_shape": "hm",
   "name": "XLM_MLM_100(TPU).ipynb",
   "provenance": [
    {
     "file_id": "1rqdrDHKeQug5wYN6kbGdMElBDXhu4idy",
     "timestamp": 1591794853401
    }
   ]
  },
  "kernelspec": {
   "display_name": "Python 3",
   "language": "python",
   "name": "python3"
  },
  "language_info": {
   "codemirror_mode": {
    "name": "ipython",
    "version": 3
   },
   "file_extension": ".py",
   "mimetype": "text/x-python",
   "name": "python",
   "nbconvert_exporter": "python",
   "pygments_lexer": "ipython3",
   "version": "3.7.6"
  },
  "widgets": {
   "application/vnd.jupyter.widget-state+json": {
    "0c1d9b83803d45e9bc78abf2958d599e": {
     "model_module": "@jupyter-widgets/base",
     "model_name": "LayoutModel",
     "state": {
      "_model_module": "@jupyter-widgets/base",
      "_model_module_version": "1.2.0",
      "_model_name": "LayoutModel",
      "_view_count": null,
      "_view_module": "@jupyter-widgets/base",
      "_view_module_version": "1.2.0",
      "_view_name": "LayoutView",
      "align_content": null,
      "align_items": null,
      "align_self": null,
      "border": null,
      "bottom": null,
      "display": null,
      "flex": null,
      "flex_flow": null,
      "grid_area": null,
      "grid_auto_columns": null,
      "grid_auto_flow": null,
      "grid_auto_rows": null,
      "grid_column": null,
      "grid_gap": null,
      "grid_row": null,
      "grid_template_areas": null,
      "grid_template_columns": null,
      "grid_template_rows": null,
      "height": null,
      "justify_content": null,
      "justify_items": null,
      "left": null,
      "margin": null,
      "max_height": null,
      "max_width": null,
      "min_height": null,
      "min_width": null,
      "object_fit": null,
      "object_position": null,
      "order": null,
      "overflow": null,
      "overflow_x": null,
      "overflow_y": null,
      "padding": null,
      "right": null,
      "top": null,
      "visibility": null,
      "width": null
     }
    },
    "14f56098f6bf4e6084945e3e69a9dcc3": {
     "model_module": "@jupyter-widgets/controls",
     "model_name": "HBoxModel",
     "state": {
      "_dom_classes": [],
      "_model_module": "@jupyter-widgets/controls",
      "_model_module_version": "1.5.0",
      "_model_name": "HBoxModel",
      "_view_count": null,
      "_view_module": "@jupyter-widgets/controls",
      "_view_module_version": "1.5.0",
      "_view_name": "HBoxView",
      "box_style": "",
      "children": [
       "IPY_MODEL_9e196c6d7d67447a9c3e6b8c9a575b4b",
       "IPY_MODEL_7483fd3e0e9e4b57a6124254b8433c70"
      ],
      "layout": "IPY_MODEL_c5baa2be187e453a832f843cc6c46263"
     }
    },
    "1d51fbc9145f4f78a75bbc7a5e525caf": {
     "model_module": "@jupyter-widgets/controls",
     "model_name": "ProgressStyleModel",
     "state": {
      "_model_module": "@jupyter-widgets/controls",
      "_model_module_version": "1.5.0",
      "_model_name": "ProgressStyleModel",
      "_view_count": null,
      "_view_module": "@jupyter-widgets/base",
      "_view_module_version": "1.2.0",
      "_view_name": "StyleView",
      "bar_color": null,
      "description_width": "initial"
     }
    },
    "3af61b033d56455494625cd24c46bd44": {
     "model_module": "@jupyter-widgets/controls",
     "model_name": "DescriptionStyleModel",
     "state": {
      "_model_module": "@jupyter-widgets/controls",
      "_model_module_version": "1.5.0",
      "_model_name": "DescriptionStyleModel",
      "_view_count": null,
      "_view_module": "@jupyter-widgets/base",
      "_view_module_version": "1.2.0",
      "_view_name": "StyleView",
      "description_width": ""
     }
    },
    "4ae8e260f9d149c1b66ddef3db9ab509": {
     "model_module": "@jupyter-widgets/controls",
     "model_name": "HTMLModel",
     "state": {
      "_dom_classes": [],
      "_model_module": "@jupyter-widgets/controls",
      "_model_module_version": "1.5.0",
      "_model_name": "HTMLModel",
      "_view_count": null,
      "_view_module": "@jupyter-widgets/controls",
      "_view_module_version": "1.5.0",
      "_view_name": "HTMLView",
      "description": "",
      "description_tooltip": null,
      "layout": "IPY_MODEL_d163e929d1284092adb135bf97c09616",
      "placeholder": "​",
      "style": "IPY_MODEL_509f2315b66b408b970da9fa1136adec",
      "value": " 5.72M/5.72M [00:00&lt;00:00, 8.98MB/s]"
     }
    },
    "4b451dfdadf44cb7a30a96f1a4907782": {
     "model_module": "@jupyter-widgets/base",
     "model_name": "LayoutModel",
     "state": {
      "_model_module": "@jupyter-widgets/base",
      "_model_module_version": "1.2.0",
      "_model_name": "LayoutModel",
      "_view_count": null,
      "_view_module": "@jupyter-widgets/base",
      "_view_module_version": "1.2.0",
      "_view_name": "LayoutView",
      "align_content": null,
      "align_items": null,
      "align_self": null,
      "border": null,
      "bottom": null,
      "display": null,
      "flex": null,
      "flex_flow": null,
      "grid_area": null,
      "grid_auto_columns": null,
      "grid_auto_flow": null,
      "grid_auto_rows": null,
      "grid_column": null,
      "grid_gap": null,
      "grid_row": null,
      "grid_template_areas": null,
      "grid_template_columns": null,
      "grid_template_rows": null,
      "height": null,
      "justify_content": null,
      "justify_items": null,
      "left": null,
      "margin": null,
      "max_height": null,
      "max_width": null,
      "min_height": null,
      "min_width": null,
      "object_fit": null,
      "object_position": null,
      "order": null,
      "overflow": null,
      "overflow_x": null,
      "overflow_y": null,
      "padding": null,
      "right": null,
      "top": null,
      "visibility": null,
      "width": null
     }
    },
    "4e34ac314fff4f7e8b04277c7f92c6fb": {
     "model_module": "@jupyter-widgets/base",
     "model_name": "LayoutModel",
     "state": {
      "_model_module": "@jupyter-widgets/base",
      "_model_module_version": "1.2.0",
      "_model_name": "LayoutModel",
      "_view_count": null,
      "_view_module": "@jupyter-widgets/base",
      "_view_module_version": "1.2.0",
      "_view_name": "LayoutView",
      "align_content": null,
      "align_items": null,
      "align_self": null,
      "border": null,
      "bottom": null,
      "display": null,
      "flex": null,
      "flex_flow": null,
      "grid_area": null,
      "grid_auto_columns": null,
      "grid_auto_flow": null,
      "grid_auto_rows": null,
      "grid_column": null,
      "grid_gap": null,
      "grid_row": null,
      "grid_template_areas": null,
      "grid_template_columns": null,
      "grid_template_rows": null,
      "height": null,
      "justify_content": null,
      "justify_items": null,
      "left": null,
      "margin": null,
      "max_height": null,
      "max_width": null,
      "min_height": null,
      "min_width": null,
      "object_fit": null,
      "object_position": null,
      "order": null,
      "overflow": null,
      "overflow_x": null,
      "overflow_y": null,
      "padding": null,
      "right": null,
      "top": null,
      "visibility": null,
      "width": null
     }
    },
    "4e5a32aec1e94c398eb0a6a30cb35e86": {
     "model_module": "@jupyter-widgets/base",
     "model_name": "LayoutModel",
     "state": {
      "_model_module": "@jupyter-widgets/base",
      "_model_module_version": "1.2.0",
      "_model_name": "LayoutModel",
      "_view_count": null,
      "_view_module": "@jupyter-widgets/base",
      "_view_module_version": "1.2.0",
      "_view_name": "LayoutView",
      "align_content": null,
      "align_items": null,
      "align_self": null,
      "border": null,
      "bottom": null,
      "display": null,
      "flex": null,
      "flex_flow": null,
      "grid_area": null,
      "grid_auto_columns": null,
      "grid_auto_flow": null,
      "grid_auto_rows": null,
      "grid_column": null,
      "grid_gap": null,
      "grid_row": null,
      "grid_template_areas": null,
      "grid_template_columns": null,
      "grid_template_rows": null,
      "height": null,
      "justify_content": null,
      "justify_items": null,
      "left": null,
      "margin": null,
      "max_height": null,
      "max_width": null,
      "min_height": null,
      "min_width": null,
      "object_fit": null,
      "object_position": null,
      "order": null,
      "overflow": null,
      "overflow_x": null,
      "overflow_y": null,
      "padding": null,
      "right": null,
      "top": null,
      "visibility": null,
      "width": null
     }
    },
    "509f2315b66b408b970da9fa1136adec": {
     "model_module": "@jupyter-widgets/controls",
     "model_name": "DescriptionStyleModel",
     "state": {
      "_model_module": "@jupyter-widgets/controls",
      "_model_module_version": "1.5.0",
      "_model_name": "DescriptionStyleModel",
      "_view_count": null,
      "_view_module": "@jupyter-widgets/base",
      "_view_module_version": "1.2.0",
      "_view_name": "StyleView",
      "description_width": ""
     }
    },
    "51890a9f988543feafea5b0edaa83674": {
     "model_module": "@jupyter-widgets/controls",
     "model_name": "ProgressStyleModel",
     "state": {
      "_model_module": "@jupyter-widgets/controls",
      "_model_module_version": "1.5.0",
      "_model_name": "ProgressStyleModel",
      "_view_count": null,
      "_view_module": "@jupyter-widgets/base",
      "_view_module_version": "1.2.0",
      "_view_name": "StyleView",
      "bar_color": null,
      "description_width": "initial"
     }
    },
    "594d1a6e53a74bf8838ee3bad5ce7baa": {
     "model_module": "@jupyter-widgets/controls",
     "model_name": "FloatProgressModel",
     "state": {
      "_dom_classes": [],
      "_model_module": "@jupyter-widgets/controls",
      "_model_module_version": "1.5.0",
      "_model_name": "FloatProgressModel",
      "_view_count": null,
      "_view_module": "@jupyter-widgets/controls",
      "_view_module_version": "1.5.0",
      "_view_name": "ProgressView",
      "bar_style": "success",
      "description": "Downloading: 100%",
      "description_tooltip": null,
      "layout": "IPY_MODEL_cd8ae41d72f048319b91e7a6b751be53",
      "max": 1143436263,
      "min": 0,
      "orientation": "horizontal",
      "style": "IPY_MODEL_1d51fbc9145f4f78a75bbc7a5e525caf",
      "value": 1143436263
     }
    },
    "5a97c00b52a345078a9a53ac0653dd46": {
     "model_module": "@jupyter-widgets/controls",
     "model_name": "DescriptionStyleModel",
     "state": {
      "_model_module": "@jupyter-widgets/controls",
      "_model_module_version": "1.5.0",
      "_model_name": "DescriptionStyleModel",
      "_view_count": null,
      "_view_module": "@jupyter-widgets/base",
      "_view_module_version": "1.2.0",
      "_view_name": "StyleView",
      "description_width": ""
     }
    },
    "608cc0765d2b4754acab1e497dadf096": {
     "model_module": "@jupyter-widgets/controls",
     "model_name": "FloatProgressModel",
     "state": {
      "_dom_classes": [],
      "_model_module": "@jupyter-widgets/controls",
      "_model_module_version": "1.5.0",
      "_model_name": "FloatProgressModel",
      "_view_count": null,
      "_view_module": "@jupyter-widgets/controls",
      "_view_module_version": "1.5.0",
      "_view_name": "ProgressView",
      "bar_style": "success",
      "description": "Downloading: 100%",
      "description_tooltip": null,
      "layout": "IPY_MODEL_b621a07b67bd466b9be9c91536b79663",
      "max": 41937,
      "min": 0,
      "orientation": "horizontal",
      "style": "IPY_MODEL_c9e93d8a07dd40c08baf1d7fc8a96dae",
      "value": 41937
     }
    },
    "6bc958a6add042898ef78f52235d28fa": {
     "model_module": "@jupyter-widgets/controls",
     "model_name": "FloatProgressModel",
     "state": {
      "_dom_classes": [],
      "_model_module": "@jupyter-widgets/controls",
      "_model_module_version": "1.5.0",
      "_model_name": "FloatProgressModel",
      "_view_count": null,
      "_view_module": "@jupyter-widgets/controls",
      "_view_module_version": "1.5.0",
      "_view_name": "ProgressView",
      "bar_style": "success",
      "description": "Downloading: 100%",
      "description_tooltip": null,
      "layout": "IPY_MODEL_bd870deec25b40ef8cd678945d92fa0f",
      "max": 5715183,
      "min": 0,
      "orientation": "horizontal",
      "style": "IPY_MODEL_51890a9f988543feafea5b0edaa83674",
      "value": 5715183
     }
    },
    "6c4640bb43f34960a49ab9b107649c25": {
     "model_module": "@jupyter-widgets/controls",
     "model_name": "HBoxModel",
     "state": {
      "_dom_classes": [],
      "_model_module": "@jupyter-widgets/controls",
      "_model_module_version": "1.5.0",
      "_model_name": "HBoxModel",
      "_view_count": null,
      "_view_module": "@jupyter-widgets/controls",
      "_view_module_version": "1.5.0",
      "_view_name": "HBoxView",
      "box_style": "",
      "children": [
       "IPY_MODEL_6bc958a6add042898ef78f52235d28fa",
       "IPY_MODEL_4ae8e260f9d149c1b66ddef3db9ab509"
      ],
      "layout": "IPY_MODEL_4e5a32aec1e94c398eb0a6a30cb35e86"
     }
    },
    "7483fd3e0e9e4b57a6124254b8433c70": {
     "model_module": "@jupyter-widgets/controls",
     "model_name": "HTMLModel",
     "state": {
      "_dom_classes": [],
      "_model_module": "@jupyter-widgets/controls",
      "_model_module_version": "1.5.0",
      "_model_name": "HTMLModel",
      "_view_count": null,
      "_view_module": "@jupyter-widgets/controls",
      "_view_module_version": "1.5.0",
      "_view_name": "HTMLView",
      "description": "",
      "description_tooltip": null,
      "layout": "IPY_MODEL_7a6d9590250448c38d69c3c07554f47e",
      "placeholder": "​",
      "style": "IPY_MODEL_3af61b033d56455494625cd24c46bd44",
      "value": " 2.97M/2.97M [00:00&lt;00:00, 6.33MB/s]"
     }
    },
    "7a6d9590250448c38d69c3c07554f47e": {
     "model_module": "@jupyter-widgets/base",
     "model_name": "LayoutModel",
     "state": {
      "_model_module": "@jupyter-widgets/base",
      "_model_module_version": "1.2.0",
      "_model_name": "LayoutModel",
      "_view_count": null,
      "_view_module": "@jupyter-widgets/base",
      "_view_module_version": "1.2.0",
      "_view_name": "LayoutView",
      "align_content": null,
      "align_items": null,
      "align_self": null,
      "border": null,
      "bottom": null,
      "display": null,
      "flex": null,
      "flex_flow": null,
      "grid_area": null,
      "grid_auto_columns": null,
      "grid_auto_flow": null,
      "grid_auto_rows": null,
      "grid_column": null,
      "grid_gap": null,
      "grid_row": null,
      "grid_template_areas": null,
      "grid_template_columns": null,
      "grid_template_rows": null,
      "height": null,
      "justify_content": null,
      "justify_items": null,
      "left": null,
      "margin": null,
      "max_height": null,
      "max_width": null,
      "min_height": null,
      "min_width": null,
      "object_fit": null,
      "object_position": null,
      "order": null,
      "overflow": null,
      "overflow_x": null,
      "overflow_y": null,
      "padding": null,
      "right": null,
      "top": null,
      "visibility": null,
      "width": null
     }
    },
    "7fbf3d59ec1a41069e4abd79df167cf7": {
     "model_module": "@jupyter-widgets/controls",
     "model_name": "HBoxModel",
     "state": {
      "_dom_classes": [],
      "_model_module": "@jupyter-widgets/controls",
      "_model_module_version": "1.5.0",
      "_model_name": "HBoxModel",
      "_view_count": null,
      "_view_module": "@jupyter-widgets/controls",
      "_view_module_version": "1.5.0",
      "_view_name": "HBoxView",
      "box_style": "",
      "children": [
       "IPY_MODEL_608cc0765d2b4754acab1e497dadf096",
       "IPY_MODEL_dae78d916d57413aaedf6a50a0e833f7"
      ],
      "layout": "IPY_MODEL_4b451dfdadf44cb7a30a96f1a4907782"
     }
    },
    "83d9089551934a2699d84fc6c09ec2cf": {
     "model_module": "@jupyter-widgets/controls",
     "model_name": "ProgressStyleModel",
     "state": {
      "_model_module": "@jupyter-widgets/controls",
      "_model_module_version": "1.5.0",
      "_model_name": "ProgressStyleModel",
      "_view_count": null,
      "_view_module": "@jupyter-widgets/base",
      "_view_module_version": "1.2.0",
      "_view_name": "StyleView",
      "bar_color": null,
      "description_width": "initial"
     }
    },
    "98f8587c058e44b3a57e6829a46dad24": {
     "model_module": "@jupyter-widgets/controls",
     "model_name": "HBoxModel",
     "state": {
      "_dom_classes": [],
      "_model_module": "@jupyter-widgets/controls",
      "_model_module_version": "1.5.0",
      "_model_name": "HBoxModel",
      "_view_count": null,
      "_view_module": "@jupyter-widgets/controls",
      "_view_module_version": "1.5.0",
      "_view_name": "HBoxView",
      "box_style": "",
      "children": [
       "IPY_MODEL_594d1a6e53a74bf8838ee3bad5ce7baa",
       "IPY_MODEL_ba2ffc7e81c040b5a50e025a126780a3"
      ],
      "layout": "IPY_MODEL_4e34ac314fff4f7e8b04277c7f92c6fb"
     }
    },
    "9e196c6d7d67447a9c3e6b8c9a575b4b": {
     "model_module": "@jupyter-widgets/controls",
     "model_name": "FloatProgressModel",
     "state": {
      "_dom_classes": [],
      "_model_module": "@jupyter-widgets/controls",
      "_model_module_version": "1.5.0",
      "_model_name": "FloatProgressModel",
      "_view_count": null,
      "_view_module": "@jupyter-widgets/controls",
      "_view_module_version": "1.5.0",
      "_view_name": "ProgressView",
      "bar_style": "success",
      "description": "Downloading: 100%",
      "description_tooltip": null,
      "layout": "IPY_MODEL_ebb4878324704a00974c5c54a97b7596",
      "max": 2973279,
      "min": 0,
      "orientation": "horizontal",
      "style": "IPY_MODEL_83d9089551934a2699d84fc6c09ec2cf",
      "value": 2973279
     }
    },
    "b621a07b67bd466b9be9c91536b79663": {
     "model_module": "@jupyter-widgets/base",
     "model_name": "LayoutModel",
     "state": {
      "_model_module": "@jupyter-widgets/base",
      "_model_module_version": "1.2.0",
      "_model_name": "LayoutModel",
      "_view_count": null,
      "_view_module": "@jupyter-widgets/base",
      "_view_module_version": "1.2.0",
      "_view_name": "LayoutView",
      "align_content": null,
      "align_items": null,
      "align_self": null,
      "border": null,
      "bottom": null,
      "display": null,
      "flex": null,
      "flex_flow": null,
      "grid_area": null,
      "grid_auto_columns": null,
      "grid_auto_flow": null,
      "grid_auto_rows": null,
      "grid_column": null,
      "grid_gap": null,
      "grid_row": null,
      "grid_template_areas": null,
      "grid_template_columns": null,
      "grid_template_rows": null,
      "height": null,
      "justify_content": null,
      "justify_items": null,
      "left": null,
      "margin": null,
      "max_height": null,
      "max_width": null,
      "min_height": null,
      "min_width": null,
      "object_fit": null,
      "object_position": null,
      "order": null,
      "overflow": null,
      "overflow_x": null,
      "overflow_y": null,
      "padding": null,
      "right": null,
      "top": null,
      "visibility": null,
      "width": null
     }
    },
    "ba2ffc7e81c040b5a50e025a126780a3": {
     "model_module": "@jupyter-widgets/controls",
     "model_name": "HTMLModel",
     "state": {
      "_dom_classes": [],
      "_model_module": "@jupyter-widgets/controls",
      "_model_module_version": "1.5.0",
      "_model_name": "HTMLModel",
      "_view_count": null,
      "_view_module": "@jupyter-widgets/controls",
      "_view_module_version": "1.5.0",
      "_view_name": "HTMLView",
      "description": "",
      "description_tooltip": null,
      "layout": "IPY_MODEL_e753be2816f8496d83d48c01bee26ce4",
      "placeholder": "​",
      "style": "IPY_MODEL_fdd1b98a17ce4926add3ecb3560038b7",
      "value": " 1.14G/1.14G [14:23&lt;00:00, 1.32MB/s]"
     }
    },
    "bd870deec25b40ef8cd678945d92fa0f": {
     "model_module": "@jupyter-widgets/base",
     "model_name": "LayoutModel",
     "state": {
      "_model_module": "@jupyter-widgets/base",
      "_model_module_version": "1.2.0",
      "_model_name": "LayoutModel",
      "_view_count": null,
      "_view_module": "@jupyter-widgets/base",
      "_view_module_version": "1.2.0",
      "_view_name": "LayoutView",
      "align_content": null,
      "align_items": null,
      "align_self": null,
      "border": null,
      "bottom": null,
      "display": null,
      "flex": null,
      "flex_flow": null,
      "grid_area": null,
      "grid_auto_columns": null,
      "grid_auto_flow": null,
      "grid_auto_rows": null,
      "grid_column": null,
      "grid_gap": null,
      "grid_row": null,
      "grid_template_areas": null,
      "grid_template_columns": null,
      "grid_template_rows": null,
      "height": null,
      "justify_content": null,
      "justify_items": null,
      "left": null,
      "margin": null,
      "max_height": null,
      "max_width": null,
      "min_height": null,
      "min_width": null,
      "object_fit": null,
      "object_position": null,
      "order": null,
      "overflow": null,
      "overflow_x": null,
      "overflow_y": null,
      "padding": null,
      "right": null,
      "top": null,
      "visibility": null,
      "width": null
     }
    },
    "c5baa2be187e453a832f843cc6c46263": {
     "model_module": "@jupyter-widgets/base",
     "model_name": "LayoutModel",
     "state": {
      "_model_module": "@jupyter-widgets/base",
      "_model_module_version": "1.2.0",
      "_model_name": "LayoutModel",
      "_view_count": null,
      "_view_module": "@jupyter-widgets/base",
      "_view_module_version": "1.2.0",
      "_view_name": "LayoutView",
      "align_content": null,
      "align_items": null,
      "align_self": null,
      "border": null,
      "bottom": null,
      "display": null,
      "flex": null,
      "flex_flow": null,
      "grid_area": null,
      "grid_auto_columns": null,
      "grid_auto_flow": null,
      "grid_auto_rows": null,
      "grid_column": null,
      "grid_gap": null,
      "grid_row": null,
      "grid_template_areas": null,
      "grid_template_columns": null,
      "grid_template_rows": null,
      "height": null,
      "justify_content": null,
      "justify_items": null,
      "left": null,
      "margin": null,
      "max_height": null,
      "max_width": null,
      "min_height": null,
      "min_width": null,
      "object_fit": null,
      "object_position": null,
      "order": null,
      "overflow": null,
      "overflow_x": null,
      "overflow_y": null,
      "padding": null,
      "right": null,
      "top": null,
      "visibility": null,
      "width": null
     }
    },
    "c9e93d8a07dd40c08baf1d7fc8a96dae": {
     "model_module": "@jupyter-widgets/controls",
     "model_name": "ProgressStyleModel",
     "state": {
      "_model_module": "@jupyter-widgets/controls",
      "_model_module_version": "1.5.0",
      "_model_name": "ProgressStyleModel",
      "_view_count": null,
      "_view_module": "@jupyter-widgets/base",
      "_view_module_version": "1.2.0",
      "_view_name": "StyleView",
      "bar_color": null,
      "description_width": "initial"
     }
    },
    "cd8ae41d72f048319b91e7a6b751be53": {
     "model_module": "@jupyter-widgets/base",
     "model_name": "LayoutModel",
     "state": {
      "_model_module": "@jupyter-widgets/base",
      "_model_module_version": "1.2.0",
      "_model_name": "LayoutModel",
      "_view_count": null,
      "_view_module": "@jupyter-widgets/base",
      "_view_module_version": "1.2.0",
      "_view_name": "LayoutView",
      "align_content": null,
      "align_items": null,
      "align_self": null,
      "border": null,
      "bottom": null,
      "display": null,
      "flex": null,
      "flex_flow": null,
      "grid_area": null,
      "grid_auto_columns": null,
      "grid_auto_flow": null,
      "grid_auto_rows": null,
      "grid_column": null,
      "grid_gap": null,
      "grid_row": null,
      "grid_template_areas": null,
      "grid_template_columns": null,
      "grid_template_rows": null,
      "height": null,
      "justify_content": null,
      "justify_items": null,
      "left": null,
      "margin": null,
      "max_height": null,
      "max_width": null,
      "min_height": null,
      "min_width": null,
      "object_fit": null,
      "object_position": null,
      "order": null,
      "overflow": null,
      "overflow_x": null,
      "overflow_y": null,
      "padding": null,
      "right": null,
      "top": null,
      "visibility": null,
      "width": null
     }
    },
    "d163e929d1284092adb135bf97c09616": {
     "model_module": "@jupyter-widgets/base",
     "model_name": "LayoutModel",
     "state": {
      "_model_module": "@jupyter-widgets/base",
      "_model_module_version": "1.2.0",
      "_model_name": "LayoutModel",
      "_view_count": null,
      "_view_module": "@jupyter-widgets/base",
      "_view_module_version": "1.2.0",
      "_view_name": "LayoutView",
      "align_content": null,
      "align_items": null,
      "align_self": null,
      "border": null,
      "bottom": null,
      "display": null,
      "flex": null,
      "flex_flow": null,
      "grid_area": null,
      "grid_auto_columns": null,
      "grid_auto_flow": null,
      "grid_auto_rows": null,
      "grid_column": null,
      "grid_gap": null,
      "grid_row": null,
      "grid_template_areas": null,
      "grid_template_columns": null,
      "grid_template_rows": null,
      "height": null,
      "justify_content": null,
      "justify_items": null,
      "left": null,
      "margin": null,
      "max_height": null,
      "max_width": null,
      "min_height": null,
      "min_width": null,
      "object_fit": null,
      "object_position": null,
      "order": null,
      "overflow": null,
      "overflow_x": null,
      "overflow_y": null,
      "padding": null,
      "right": null,
      "top": null,
      "visibility": null,
      "width": null
     }
    },
    "dae78d916d57413aaedf6a50a0e833f7": {
     "model_module": "@jupyter-widgets/controls",
     "model_name": "HTMLModel",
     "state": {
      "_dom_classes": [],
      "_model_module": "@jupyter-widgets/controls",
      "_model_module_version": "1.5.0",
      "_model_name": "HTMLModel",
      "_view_count": null,
      "_view_module": "@jupyter-widgets/controls",
      "_view_module_version": "1.5.0",
      "_view_name": "HTMLView",
      "description": "",
      "description_tooltip": null,
      "layout": "IPY_MODEL_0c1d9b83803d45e9bc78abf2958d599e",
      "placeholder": "​",
      "style": "IPY_MODEL_5a97c00b52a345078a9a53ac0653dd46",
      "value": " 41.9k/41.9k [00:00&lt;00:00, 97.1kB/s]"
     }
    },
    "e753be2816f8496d83d48c01bee26ce4": {
     "model_module": "@jupyter-widgets/base",
     "model_name": "LayoutModel",
     "state": {
      "_model_module": "@jupyter-widgets/base",
      "_model_module_version": "1.2.0",
      "_model_name": "LayoutModel",
      "_view_count": null,
      "_view_module": "@jupyter-widgets/base",
      "_view_module_version": "1.2.0",
      "_view_name": "LayoutView",
      "align_content": null,
      "align_items": null,
      "align_self": null,
      "border": null,
      "bottom": null,
      "display": null,
      "flex": null,
      "flex_flow": null,
      "grid_area": null,
      "grid_auto_columns": null,
      "grid_auto_flow": null,
      "grid_auto_rows": null,
      "grid_column": null,
      "grid_gap": null,
      "grid_row": null,
      "grid_template_areas": null,
      "grid_template_columns": null,
      "grid_template_rows": null,
      "height": null,
      "justify_content": null,
      "justify_items": null,
      "left": null,
      "margin": null,
      "max_height": null,
      "max_width": null,
      "min_height": null,
      "min_width": null,
      "object_fit": null,
      "object_position": null,
      "order": null,
      "overflow": null,
      "overflow_x": null,
      "overflow_y": null,
      "padding": null,
      "right": null,
      "top": null,
      "visibility": null,
      "width": null
     }
    },
    "ebb4878324704a00974c5c54a97b7596": {
     "model_module": "@jupyter-widgets/base",
     "model_name": "LayoutModel",
     "state": {
      "_model_module": "@jupyter-widgets/base",
      "_model_module_version": "1.2.0",
      "_model_name": "LayoutModel",
      "_view_count": null,
      "_view_module": "@jupyter-widgets/base",
      "_view_module_version": "1.2.0",
      "_view_name": "LayoutView",
      "align_content": null,
      "align_items": null,
      "align_self": null,
      "border": null,
      "bottom": null,
      "display": null,
      "flex": null,
      "flex_flow": null,
      "grid_area": null,
      "grid_auto_columns": null,
      "grid_auto_flow": null,
      "grid_auto_rows": null,
      "grid_column": null,
      "grid_gap": null,
      "grid_row": null,
      "grid_template_areas": null,
      "grid_template_columns": null,
      "grid_template_rows": null,
      "height": null,
      "justify_content": null,
      "justify_items": null,
      "left": null,
      "margin": null,
      "max_height": null,
      "max_width": null,
      "min_height": null,
      "min_width": null,
      "object_fit": null,
      "object_position": null,
      "order": null,
      "overflow": null,
      "overflow_x": null,
      "overflow_y": null,
      "padding": null,
      "right": null,
      "top": null,
      "visibility": null,
      "width": null
     }
    },
    "fdd1b98a17ce4926add3ecb3560038b7": {
     "model_module": "@jupyter-widgets/controls",
     "model_name": "DescriptionStyleModel",
     "state": {
      "_model_module": "@jupyter-widgets/controls",
      "_model_module_version": "1.5.0",
      "_model_name": "DescriptionStyleModel",
      "_view_count": null,
      "_view_module": "@jupyter-widgets/base",
      "_view_module_version": "1.2.0",
      "_view_name": "StyleView",
      "description_width": ""
     }
    }
   }
  }
 },
 "nbformat": 4,
 "nbformat_minor": 1
}
